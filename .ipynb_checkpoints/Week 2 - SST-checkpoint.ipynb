{
 "cells": [
  {
   "cell_type": "markdown",
   "metadata": {},
   "source": [
    "# SST timeline"
   ]
  },
  {
   "cell_type": "markdown",
   "metadata": {},
   "source": [
    "https://machinelearningmastery.com/statistical-hypothesis-tests-in-python-cheat-sheet/ \n",
    "https://docs.scipy.org/doc/scipy-0.14.0/reference/generated/scipy.stats.linregress.html \n",
    "Extension: Can you think of a better way of doing this? Perhaps fitting a better line?"
   ]
  },
  {
   "cell_type": "code",
   "execution_count": 18,
   "metadata": {},
   "outputs": [],
   "source": [
    "# open HADSST4_timeseries.csv and determine if there's a trend\n",
    "import pandas as pd\n",
    "import numpy as np\n",
    "import scipy\n",
    "import matplotlib.pyplot as plt\n",
    "from scipy import stats\n",
    "from scipy.stats import linregress"
   ]
  },
  {
   "cell_type": "code",
   "execution_count": 5,
   "metadata": {},
   "outputs": [],
   "source": [
    "df = pd.read_csv('HadSST4_timeseries.csv')"
   ]
  },
  {
   "cell_type": "code",
   "execution_count": 6,
   "metadata": {},
   "outputs": [
    {
     "data": {
      "text/html": [
       "<div>\n",
       "<style scoped>\n",
       "    .dataframe tbody tr th:only-of-type {\n",
       "        vertical-align: middle;\n",
       "    }\n",
       "\n",
       "    .dataframe tbody tr th {\n",
       "        vertical-align: top;\n",
       "    }\n",
       "\n",
       "    .dataframe thead th {\n",
       "        text-align: right;\n",
       "    }\n",
       "</style>\n",
       "<table border=\"1\" class=\"dataframe\">\n",
       "  <thead>\n",
       "    <tr style=\"text-align: right;\">\n",
       "      <th></th>\n",
       "      <th>year</th>\n",
       "      <th>anomaly</th>\n",
       "      <th>total_uncertainty</th>\n",
       "      <th>uncorrelated_uncertainty</th>\n",
       "      <th>correlated_uncertainty</th>\n",
       "      <th>bias_uncertainty</th>\n",
       "      <th>coverage_uncertainty</th>\n",
       "      <th>lower_bound_95pct_bias_uncertainty_range</th>\n",
       "      <th>upper_bound_95pct_bias_uncertainty_range</th>\n",
       "    </tr>\n",
       "  </thead>\n",
       "  <tbody>\n",
       "    <tr>\n",
       "      <th>0</th>\n",
       "      <td>1850</td>\n",
       "      <td>-0.30950</td>\n",
       "      <td>0.12747</td>\n",
       "      <td>0.00912</td>\n",
       "      <td>0.09255</td>\n",
       "      <td>0.04338</td>\n",
       "      <td>0.07562</td>\n",
       "      <td>-0.40579</td>\n",
       "      <td>-0.23192</td>\n",
       "    </tr>\n",
       "    <tr>\n",
       "      <th>1</th>\n",
       "      <td>1851</td>\n",
       "      <td>-0.19337</td>\n",
       "      <td>0.12897</td>\n",
       "      <td>0.00958</td>\n",
       "      <td>0.09721</td>\n",
       "      <td>0.04269</td>\n",
       "      <td>0.07260</td>\n",
       "      <td>-0.28779</td>\n",
       "      <td>-0.11750</td>\n",
       "    </tr>\n",
       "    <tr>\n",
       "      <th>2</th>\n",
       "      <td>1852</td>\n",
       "      <td>-0.18339</td>\n",
       "      <td>0.12484</td>\n",
       "      <td>0.01073</td>\n",
       "      <td>0.09169</td>\n",
       "      <td>0.04133</td>\n",
       "      <td>0.07316</td>\n",
       "      <td>-0.27454</td>\n",
       "      <td>-0.10496</td>\n",
       "    </tr>\n",
       "    <tr>\n",
       "      <th>3</th>\n",
       "      <td>1853</td>\n",
       "      <td>-0.21098</td>\n",
       "      <td>0.11080</td>\n",
       "      <td>0.00851</td>\n",
       "      <td>0.07829</td>\n",
       "      <td>0.03854</td>\n",
       "      <td>0.06774</td>\n",
       "      <td>-0.29375</td>\n",
       "      <td>-0.14112</td>\n",
       "    </tr>\n",
       "    <tr>\n",
       "      <th>4</th>\n",
       "      <td>1854</td>\n",
       "      <td>-0.26843</td>\n",
       "      <td>0.10534</td>\n",
       "      <td>0.00724</td>\n",
       "      <td>0.07324</td>\n",
       "      <td>0.03695</td>\n",
       "      <td>0.06568</td>\n",
       "      <td>-0.34812</td>\n",
       "      <td>-0.20058</td>\n",
       "    </tr>\n",
       "  </tbody>\n",
       "</table>\n",
       "</div>"
      ],
      "text/plain": [
       "   year  anomaly  total_uncertainty  uncorrelated_uncertainty  \\\n",
       "0  1850 -0.30950            0.12747                   0.00912   \n",
       "1  1851 -0.19337            0.12897                   0.00958   \n",
       "2  1852 -0.18339            0.12484                   0.01073   \n",
       "3  1853 -0.21098            0.11080                   0.00851   \n",
       "4  1854 -0.26843            0.10534                   0.00724   \n",
       "\n",
       "   correlated_uncertainty  bias_uncertainty  coverage_uncertainty  \\\n",
       "0                 0.09255           0.04338               0.07562   \n",
       "1                 0.09721           0.04269               0.07260   \n",
       "2                 0.09169           0.04133               0.07316   \n",
       "3                 0.07829           0.03854               0.06774   \n",
       "4                 0.07324           0.03695               0.06568   \n",
       "\n",
       "   lower_bound_95pct_bias_uncertainty_range  \\\n",
       "0                                  -0.40579   \n",
       "1                                  -0.28779   \n",
       "2                                  -0.27454   \n",
       "3                                  -0.29375   \n",
       "4                                  -0.34812   \n",
       "\n",
       "   upper_bound_95pct_bias_uncertainty_range  \n",
       "0                                  -0.23192  \n",
       "1                                  -0.11750  \n",
       "2                                  -0.10496  \n",
       "3                                  -0.14112  \n",
       "4                                  -0.20058  "
      ]
     },
     "execution_count": 6,
     "metadata": {},
     "output_type": "execute_result"
    }
   ],
   "source": [
    "df.head()"
   ]
  },
  {
   "cell_type": "code",
   "execution_count": 9,
   "metadata": {},
   "outputs": [],
   "source": [
    "year = df['year']\n",
    "anomaly = df['anomaly']"
   ]
  },
  {
   "cell_type": "code",
   "execution_count": 14,
   "metadata": {},
   "outputs": [
    {
     "data": {
      "text/plain": [
       "LinregressResult(slope=0.004841754164387647, intercept=-9.459063204813283, rvalue=0.802516270257719, pvalue=2.6720630467440723e-39, stderr=0.00027854534839969993)"
      ]
     },
     "execution_count": 14,
     "metadata": {},
     "output_type": "execute_result"
    }
   ],
   "source": [
    "scipy.stats.linregress(year, anomaly)"
   ]
  },
  {
   "cell_type": "code",
   "execution_count": 21,
   "metadata": {},
   "outputs": [
    {
     "data": {
      "text/plain": [
       "Text(0.5, 1.0, 'Global SST temperature anomaly')"
      ]
     },
     "execution_count": 21,
     "metadata": {},
     "output_type": "execute_result"
    },
    {
     "data": {
      "image/png": "[encoded data removed]",
      "text/plain": [
       "<Figure size 432x288 with 1 Axes>"
      ]
     },
     "metadata": {
      "needs_background": "light"
     },
     "output_type": "display_data"
    }
   ],
   "source": [
    "fig = plt.figure()  # Create a figure and an axes\n",
    "ax1 = fig.add_subplot(1,1,1)\n",
    "ax1.scatter(year, anomaly)\n",
    "ax1.set_xlabel('Year')\n",
    "ax1.set_ylabel('Temp anomaly (C)')\n",
    "ax1.set_title('Global SST temperature anomaly')"
   ]
  },
  {
   "cell_type": "code",
   "execution_count": 25,
   "metadata": {},
   "outputs": [
    {
     "data": {
      "text/plain": [
       "LinregressResult(slope=0.004841754164387647, intercept=-9.459063204813283, rvalue=0.802516270257719, pvalue=2.6720630467440723e-39, stderr=0.00027854534839969993)"
      ]
     },
     "execution_count": 25,
     "metadata": {},
     "output_type": "execute_result"
    }
   ],
   "source": [
    "cipy.stats.linregress(year, anomaly)"
   ]
  }
 ],
 "metadata": {
  "kernelspec": {
   "display_name": "Python 3",
   "language": "python",
   "name": "python3"
  },
  "language_info": {
   "codemirror_mode": {
    "name": "ipython",
    "version": 3
   },
   "file_extension": ".py",
   "mimetype": "text/x-python",
   "name": "python",
   "nbconvert_exporter": "python",
   "pygments_lexer": "ipython3",
   "version": "3.8.3"
  }
 },
 "nbformat": 4,
 "nbformat_minor": 4
}
