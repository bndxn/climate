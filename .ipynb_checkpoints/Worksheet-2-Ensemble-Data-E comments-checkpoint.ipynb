{
 "cells": [
  {
   "cell_type": "markdown",
   "metadata": {},
   "source": [
    "**2. Working with ensemble data**\n",
    "\n",
    "To do this you will need to download \"HadSST.4.0.0.0_ensemble.zip\" from https://www.metoffice.gov.uk/hadobs/hadsst4/data/download.html it is a massive folder of 200 ensemble members! A useful tool for looking at netcdf files: Panoply (Nasa) https://www.giss.nasa.gov/tools/panoply/ \n",
    "\n",
    "Model ensembles are very common. They represent a group (anywhere between 2 and 100+) of *model runs* using similar initial conditions. The initial conditions are varied slightly for each run to mimic randomness within the earth system. \n",
    "\n",
    "1. Initialise any arrays\n",
    "\n",
    "2. Create a for loop which loops through the files in the ensemble foler and loads each sst file and the variables\n",
    "\n",
    "3. Within the for loop calculate the baseline, current climates and anomalies for each of the files\n",
    "uses formulas from last week \n",
    "\n",
    "4. For each type of climate: baselines, currents and anomalies, concatenate the arrays so you end up with three arrays of shape (200,36,72) (as you have 200 files, you will have 200 values for each grid point) \n",
    "data2 = pd.concat([year, anomaly], axis=1) # learned to concatenate two series into a df\n",
    "\n",
    "5. outside of the for loop calculate the anomaly mean (for each grid point)\n",
    "\n",
    "\n",
    "\n",
    "6. Now loop through all of the grid points and compare the distributions of the baseline compared to the currents - are they significantly different (i.e. is the global sst now significantly different from what it was during the baseline?)\n",
    "\n",
    "\n",
    "You should output:\n",
    "\n",
    "* an anomaly array of shape (36,72) which represents current - baseline SST\n",
    "* a boolean array of shape (36,72) which represents whether there is a statistical significant difference between baseline and current\n",
    "So this is not straightforward, if you're finding it impossible then just use the answers for this bit and try to understand what each line is doing.\n",
    "\n"
   ]
  },
  {
   "cell_type": "code",
   "execution_count": 13,
   "metadata": {},
   "outputs": [],
   "source": [
    "import numpy as np\n",
    "import pandas as pd\n",
    "import matplotlib.pyplot as plt\n",
    "import cartopy.crs as ccrs\n",
    "import os\n",
    "from netCDF4 import Dataset,num2date\n",
    "from datetime import date, timedelta"
   ]
  },
  {
   "cell_type": "markdown",
   "metadata": {},
   "source": [
    "**1. Initialise any arrays** "
   ]
  },
  {
   "cell_type": "code",
   "execution_count": 21,
   "metadata": {},
   "outputs": [
    {
     "data": {
      "text/plain": [
       "(1, 36, 72)"
      ]
     },
     "execution_count": 21,
     "metadata": {},
     "output_type": "execute_result"
    }
   ],
   "source": [
    "bas_a = np.zeros((1,36,72))\n",
    "cur_a = np.zeros((200,36,72))\n",
    "anom_a = np.zeros((200,36,72))\n",
    "bas_a.shape"
   ]
  },
  {
   "cell_type": "code",
   "execution_count": 22,
   "metadata": {},
   "outputs": [
    {
     "name": "stdout",
     "output_type": "stream",
     "text": [
      "(4, 3)\n",
      "[[ 1  2  3]\n",
      " [ 4  5  6]\n",
      " [10 20 30]\n",
      " [40 50 60]]\n"
     ]
    }
   ],
   "source": [
    "a = np.array([[1, 2, 3],[4, 5, 6]])\n",
    "b = np.array([[10, 20, 30],[40, 50, 60]])\n",
    "c = np.concatenate((a,b),axis=0) # \n",
    "print(c.shape)\n",
    "print(c)"
   ]
  },
  {
   "cell_type": "markdown",
   "metadata": {},
   "source": [
    "**2. Create a for loop which loops through the files in the ensemble folder and loads each sst file and the variables, and calculates the baseline, current climates, and anomalies for each of the files.**"
   ]
  },
  {
   "cell_type": "code",
   "execution_count": 23,
   "metadata": {},
   "outputs": [],
   "source": [
    "# Setting up variables (outside of loop)\n",
    "example = Dataset('/Users/al18709/Downloads/HadSST/HadSST.4.0.0.0_ensemble_member_1.nc')\n",
    "\n",
    "# time and lat and lon are global variables\n",
    "latitude = example.variables['latitude'][:]\n",
    "longitude = example.variables['longitude'][:]\n",
    "\n",
    "# time \n",
    "time = example.variables['time'][:]\n",
    "time_units = example.variables['time'].units\n",
    "calendar = example.variables['time'].calendar # I think Gregorian might be the default, not sure if needed\n",
    "time_convert = num2date(time, time_units, calendar)\n",
    "i_1950 = 1200; i_1980 = 1569; i_2000 = 1800; i_2018 = 2027    "
   ]
  },
  {
   "cell_type": "code",
   "execution_count": 24,
   "metadata": {},
   "outputs": [],
   "source": [
    "# defining the anomaly function\n",
    "def anomaly(fn):\n",
    "    # Opening the file and loading the temperature value\n",
    "    swta_file = Dataset(fn)\n",
    "    variables = swta_file.variables\n",
    "    swta = swta_file.variables['tos'][:]\n",
    "    swta = np.ma.masked_values(swta, 9.969209968386869e+36)\n",
    "    # Setting the time parameters () \n",
    "    baseline = swta[i_1950:i_1980,:,:]\n",
    "    baseline = np.mean(baseline,axis=0) \n",
    "    current = swta[i_2000:i_2018,:,:]\n",
    "    current = np.mean(current,axis=0)\n",
    "    # Printing the anomaly\n",
    "    anom = current - baseline\n",
    "    anom = np.array(anom, dtype=float)\n",
    "    return anom"
   ]
  },
  {
   "cell_type": "code",
   "execution_count": 25,
   "metadata": {},
   "outputs": [],
   "source": [
    "def baseline(fn):\n",
    "    # Opening the file and loading the temperature value\n",
    "    swta_file = Dataset(fn)\n",
    "    variables = swta_file.variables\n",
    "    swta = swta_file.variables['tos'][:]\n",
    "    swta = np.ma.masked_values(swta, 9.969209968386869e+36)\n",
    "    # Setting the time parameters () \n",
    "    baseline = swta[i_1950:i_1980,:,:]\n",
    "    baseline = np.mean(baseline,axis=0) \n",
    "    return baseline # Returning the baseline value"
   ]
  },
  {
   "cell_type": "code",
   "execution_count": 27,
   "metadata": {},
   "outputs": [
    {
     "name": "stdout",
     "output_type": "stream",
     "text": [
      "(2, 36, 72)\n",
      "(3, 36, 72)\n",
      "(4, 36, 72)\n",
      "(5, 36, 72)\n",
      "(6, 36, 72)\n",
      "(7, 36, 72)\n",
      "(8, 36, 72)\n",
      "(9, 36, 72)\n",
      "(10, 36, 72)\n",
      "(11, 36, 72)\n",
      "(12, 36, 72)\n",
      "(13, 36, 72)\n",
      "(14, 36, 72)\n",
      "(15, 36, 72)\n",
      "(16, 36, 72)\n",
      "(17, 36, 72)\n",
      "(18, 36, 72)\n",
      "(19, 36, 72)\n",
      "(20, 36, 72)\n",
      "(21, 36, 72)\n",
      "(22, 36, 72)\n",
      "(23, 36, 72)\n",
      "(24, 36, 72)\n",
      "(25, 36, 72)\n",
      "(26, 36, 72)\n",
      "(27, 36, 72)\n",
      "(28, 36, 72)\n",
      "(29, 36, 72)\n",
      "(30, 36, 72)\n",
      "(31, 36, 72)\n",
      "(32, 36, 72)\n",
      "(33, 36, 72)\n",
      "(34, 36, 72)\n",
      "(35, 36, 72)\n",
      "(36, 36, 72)\n",
      "(37, 36, 72)\n",
      "(38, 36, 72)\n",
      "(39, 36, 72)\n",
      "(40, 36, 72)\n",
      "(41, 36, 72)\n",
      "(42, 36, 72)\n",
      "(43, 36, 72)\n",
      "(44, 36, 72)\n",
      "(45, 36, 72)\n",
      "(46, 36, 72)\n",
      "(47, 36, 72)\n",
      "(48, 36, 72)\n",
      "(49, 36, 72)\n",
      "(50, 36, 72)\n",
      "(51, 36, 72)\n",
      "(52, 36, 72)\n",
      "(53, 36, 72)\n",
      "(54, 36, 72)\n",
      "(55, 36, 72)\n",
      "(56, 36, 72)\n",
      "(57, 36, 72)\n",
      "(58, 36, 72)\n",
      "(59, 36, 72)\n",
      "(60, 36, 72)\n",
      "(61, 36, 72)\n",
      "(62, 36, 72)\n",
      "(63, 36, 72)\n",
      "(64, 36, 72)\n",
      "(65, 36, 72)\n",
      "(66, 36, 72)\n",
      "(67, 36, 72)\n",
      "(68, 36, 72)\n",
      "(69, 36, 72)\n",
      "(70, 36, 72)\n",
      "(71, 36, 72)\n",
      "(72, 36, 72)\n",
      "(73, 36, 72)\n",
      "(74, 36, 72)\n",
      "(75, 36, 72)\n",
      "(76, 36, 72)\n",
      "(77, 36, 72)\n",
      "(78, 36, 72)\n",
      "(79, 36, 72)\n",
      "(80, 36, 72)\n",
      "(81, 36, 72)\n",
      "(82, 36, 72)\n",
      "(83, 36, 72)\n",
      "(84, 36, 72)\n",
      "(85, 36, 72)\n",
      "(86, 36, 72)\n",
      "(87, 36, 72)\n",
      "(88, 36, 72)\n",
      "(89, 36, 72)\n",
      "(90, 36, 72)\n",
      "(91, 36, 72)\n",
      "(92, 36, 72)\n",
      "(93, 36, 72)\n",
      "(94, 36, 72)\n",
      "(95, 36, 72)\n",
      "(96, 36, 72)\n",
      "(97, 36, 72)\n",
      "(98, 36, 72)\n",
      "(99, 36, 72)\n",
      "(100, 36, 72)\n",
      "(101, 36, 72)\n",
      "(102, 36, 72)\n",
      "(103, 36, 72)\n",
      "(104, 36, 72)\n",
      "(105, 36, 72)\n",
      "(106, 36, 72)\n",
      "(107, 36, 72)\n",
      "(108, 36, 72)\n",
      "(109, 36, 72)\n",
      "(110, 36, 72)\n",
      "(111, 36, 72)\n",
      "(112, 36, 72)\n",
      "(113, 36, 72)\n",
      "(114, 36, 72)\n",
      "(115, 36, 72)\n",
      "(116, 36, 72)\n",
      "(117, 36, 72)\n",
      "(118, 36, 72)\n",
      "(119, 36, 72)\n",
      "(120, 36, 72)\n",
      "(121, 36, 72)\n",
      "(122, 36, 72)\n",
      "(123, 36, 72)\n",
      "(124, 36, 72)\n",
      "(125, 36, 72)\n",
      "(126, 36, 72)\n",
      "(127, 36, 72)\n",
      "(128, 36, 72)\n",
      "(129, 36, 72)\n",
      "(130, 36, 72)\n",
      "(131, 36, 72)\n",
      "(132, 36, 72)\n",
      "(133, 36, 72)\n",
      "(134, 36, 72)\n",
      "(135, 36, 72)\n",
      "(136, 36, 72)\n",
      "(137, 36, 72)\n",
      "(138, 36, 72)\n",
      "(139, 36, 72)\n",
      "(140, 36, 72)\n",
      "(141, 36, 72)\n",
      "(142, 36, 72)\n",
      "(143, 36, 72)\n",
      "(144, 36, 72)\n",
      "(145, 36, 72)\n",
      "(146, 36, 72)\n",
      "(147, 36, 72)\n",
      "(148, 36, 72)\n",
      "(149, 36, 72)\n",
      "(150, 36, 72)\n",
      "(151, 36, 72)\n",
      "(152, 36, 72)\n",
      "(153, 36, 72)\n",
      "(154, 36, 72)\n",
      "(155, 36, 72)\n",
      "(156, 36, 72)\n",
      "(157, 36, 72)\n",
      "(158, 36, 72)\n",
      "(159, 36, 72)\n",
      "(160, 36, 72)\n",
      "(161, 36, 72)\n",
      "(162, 36, 72)\n",
      "(163, 36, 72)\n",
      "(164, 36, 72)\n",
      "(165, 36, 72)\n",
      "(166, 36, 72)\n",
      "(167, 36, 72)\n",
      "(168, 36, 72)\n",
      "(169, 36, 72)\n",
      "(170, 36, 72)\n",
      "(171, 36, 72)\n",
      "(172, 36, 72)\n",
      "(173, 36, 72)\n",
      "(174, 36, 72)\n",
      "(175, 36, 72)\n",
      "(176, 36, 72)\n",
      "(177, 36, 72)\n",
      "(178, 36, 72)\n",
      "(179, 36, 72)\n",
      "(180, 36, 72)\n",
      "(181, 36, 72)\n",
      "(182, 36, 72)\n",
      "(183, 36, 72)\n",
      "(184, 36, 72)\n",
      "(185, 36, 72)\n",
      "(186, 36, 72)\n",
      "(187, 36, 72)\n",
      "(188, 36, 72)\n",
      "(189, 36, 72)\n",
      "(190, 36, 72)\n",
      "(191, 36, 72)\n",
      "(192, 36, 72)\n",
      "(193, 36, 72)\n",
      "(194, 36, 72)\n",
      "(195, 36, 72)\n",
      "(196, 36, 72)\n",
      "(197, 36, 72)\n",
      "(198, 36, 72)\n",
      "(199, 36, 72)\n",
      "(200, 36, 72)\n",
      "(201, 36, 72)\n"
     ]
    }
   ],
   "source": [
    "directory = '/Users/al18709/Downloads/HadSST/'\n",
    "os.chdir('/Users/al18709/Downloads/HadSST/') \n",
    "for filename in os.listdir(directory):\n",
    "    bas = np.array([baseline(filename)]) # you need to add another dimension to the array for concatenation\n",
    "    bas_b = np.concatenate((bas,bas_a),axis=0) # this just concatenates the same two arrays together each time\n",
    "    bas_a = bas_b # this should fix the above problem by updating the array you're concatenating to\n",
    "    print(bas_b.shape)"
   ]
  },
  {
   "cell_type": "code",
   "execution_count": null,
   "metadata": {},
   "outputs": [],
   "source": [
    "anom = anomaly('/Users/bendixon/Documents/HadSST/HadSST.4.0.0.0_ensemble_member_1.nc') # you need to define the variable here, i.e. anom = \n",
    "print(anom)"
   ]
  },
  {
   "cell_type": "code",
   "execution_count": 8,
   "metadata": {},
   "outputs": [
    {
     "name": "stdout",
     "output_type": "stream",
     "text": [
      "1950-01-16 12:00:00\n",
      "1980-01-16 12:00:00\n",
      "2000-01-16 12:00:00\n",
      "2018-12-16 12:00:00\n"
     ]
    }
   ],
   "source": [
    "print(time_convert[1200])\n",
    "print(time_convert[1560]) # not sure why some months there are measurements at 00:00 or 12:00\n",
    "print(time_convert[1800])\n",
    "print(time_convert[2027]) # this is only up to 2018, but that's the size of the array"
   ]
  },
  {
   "cell_type": "markdown",
   "metadata": {},
   "source": [
    "**Workings/ideas**"
   ]
  },
  {
   "cell_type": "markdown",
   "metadata": {},
   "source": [
    "Overall process:\n",
    "1. Create an array\n",
    "2. Loop through each file and find the "
   ]
  },
  {
   "cell_type": "code",
   "execution_count": 10,
   "metadata": {},
   "outputs": [
    {
     "ename": "IndentationError",
     "evalue": "expected an indented block (<ipython-input-10-463755ad640a>, line 14)",
     "output_type": "error",
     "traceback": [
      "\u001b[0;36m  File \u001b[0;32m\"<ipython-input-10-463755ad640a>\"\u001b[0;36m, line \u001b[0;32m14\u001b[0m\n\u001b[0;31m    for i in range(36):\u001b[0m\n\u001b[0m    ^\u001b[0m\n\u001b[0;31mIndentationError\u001b[0m\u001b[0;31m:\u001b[0m expected an indented block\n"
     ]
    }
   ],
   "source": [
    "\n",
    "\n",
    "# initialise empty arrays\n",
    "\n",
    "# open data in for loop\n",
    "for i in range(1,200):\n",
    "\n",
    "    # calculate baseline and current global mean sst\n",
    "    \n",
    "    # you can't np.concatenate to an empty array so create an if statement to deal with the first instance    \n",
    "\n",
    "\n",
    "# calculate ensemble mean sst anomaly for each grid point\n",
    "\n",
    "# loop through each grid point and assess whether the current values are significantly different from the baseline\n",
    "for i in range(36):\n",
    "    for j in range(72):\n",
    "        # ...     \n",
    "\n",
    "anomaly = \n",
    "significance ="
   ]
  },
  {
   "cell_type": "code",
   "execution_count": null,
   "metadata": {},
   "outputs": [],
   "source": [
    "# Workings - experimenting with .insert to populate the array\n",
    "b = [1,1,1,1]\n",
    "for i in range(len(b)):\n",
    "    b.insert(99999,5)\n",
    "print(b)"
   ]
  },
  {
   "cell_type": "code",
   "execution_count": null,
   "metadata": {},
   "outputs": [],
   "source": [
    "# I think the action here is to use a loop to fill in an array\n",
    "# could try this out by making a loop to fill another array\n",
    "a = np.zeros((4,20))\n",
    "for i in range(1,20):\n",
    "    a[0,i] = 5 # this works! could also use .insert? or np.concatenate?"
   ]
  },
  {
   "cell_type": "code",
   "execution_count": null,
   "metadata": {},
   "outputs": [],
   "source": [
    "# print current working directory\n",
    "os.getcwd()"
   ]
  }
 ],
 "metadata": {
  "kernelspec": {
   "display_name": "Python 3",
   "language": "python",
   "name": "python3"
  },
  "language_info": {
   "codemirror_mode": {
    "name": "ipython",
    "version": 3
   },
   "file_extension": ".py",
   "mimetype": "text/x-python",
   "name": "python",
   "nbconvert_exporter": "python",
   "pygments_lexer": "ipython3",
   "version": "3.8.3"
  }
 },
 "nbformat": 4,
 "nbformat_minor": 4
}
