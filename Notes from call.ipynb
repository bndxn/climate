{
 "cells": [
  {
   "cell_type": "markdown",
   "metadata": {},
   "source": [
    "Also good to import functions, have a toolkit\n",
    "For these things add this to your list \n",
    "Look up list comprehension with python - neat ways of condensing for loops down\n",
    "machinelearning mastery\n",
    "interpretable AI - \n",
    "machine learning course on coursera, andrew ng - took 6 days full time, would recommend that\n",
    "also another one on deep learning "
   ]
  }
 ],
 "metadata": {
  "kernelspec": {
   "display_name": "Python 3",
   "language": "python",
   "name": "python3"
  },
  "language_info": {
   "codemirror_mode": {
    "name": "ipython",
    "version": 3
   },
   "file_extension": ".py",
   "mimetype": "text/x-python",
   "name": "python",
   "nbconvert_exporter": "python",
   "pygments_lexer": "ipython3",
   "version": "3.8.3"
  }
 },
 "nbformat": 4,
 "nbformat_minor": 4
}
