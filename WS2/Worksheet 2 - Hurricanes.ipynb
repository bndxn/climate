{
 "cells": [
  {
   "cell_type": "markdown",
   "metadata": {},
   "source": [
    "## Hurricanes\n",
    "\n",
    "Dataset for global hurricanes, North Atlantic: 'ibtracs.NA.list.v04r00.csv' from:\n",
    "https://www.ncei.noaa.gov/data/international-best-track-archive-for-climate-stewardship-ibtracs/v04r00/access/csv/\n",
    "\n",
    "Read (glance briefly at) the documentation:\n",
    "https://www.ncdc.noaa.gov/ibtracs/pdf/IBTrACS_v04_column_documentation.pdf"
   ]
  },
  {
   "cell_type": "code",
   "execution_count": 1,
   "metadata": {},
   "outputs": [],
   "source": [
    "import pandas as pd\n",
    "import numpy as np\n",
    "import matplotlib.pyplot as plt"
   ]
  },
  {
   "cell_type": "code",
   "execution_count": 2,
   "metadata": {},
   "outputs": [
    {
     "data": {
      "text/html": [
       "<div>\n",
       "<style scoped>\n",
       "    .dataframe tbody tr th:only-of-type {\n",
       "        vertical-align: middle;\n",
       "    }\n",
       "\n",
       "    .dataframe tbody tr th {\n",
       "        vertical-align: top;\n",
       "    }\n",
       "\n",
       "    .dataframe thead th {\n",
       "        text-align: right;\n",
       "    }\n",
       "</style>\n",
       "<table border=\"1\" class=\"dataframe\">\n",
       "  <thead>\n",
       "    <tr style=\"text-align: right;\">\n",
       "      <th></th>\n",
       "      <th>SID</th>\n",
       "      <th>SEASON</th>\n",
       "      <th>NUMBER</th>\n",
       "      <th>BASIN</th>\n",
       "      <th>SUBBASIN</th>\n",
       "      <th>NAME</th>\n",
       "      <th>ISO_TIME</th>\n",
       "      <th>NATURE</th>\n",
       "      <th>LAT</th>\n",
       "      <th>LON</th>\n",
       "      <th>...</th>\n",
       "      <th>BOM_GUST_PER</th>\n",
       "      <th>REUNION_GUST</th>\n",
       "      <th>REUNION_GUST_PER</th>\n",
       "      <th>USA_SEAHGT</th>\n",
       "      <th>USA_SEARAD_NE</th>\n",
       "      <th>USA_SEARAD_SE</th>\n",
       "      <th>USA_SEARAD_SW</th>\n",
       "      <th>USA_SEARAD_NW</th>\n",
       "      <th>STORM_SPEED</th>\n",
       "      <th>STORM_DIR</th>\n",
       "    </tr>\n",
       "  </thead>\n",
       "  <tbody>\n",
       "    <tr>\n",
       "      <th>1</th>\n",
       "      <td>1851175N26270</td>\n",
       "      <td>1851</td>\n",
       "      <td>5</td>\n",
       "      <td>NaN</td>\n",
       "      <td>GM</td>\n",
       "      <td>NOT_NAMED</td>\n",
       "      <td>1851-06-23 12:00:00</td>\n",
       "      <td>TS</td>\n",
       "      <td>26.1000</td>\n",
       "      <td>-90.4000</td>\n",
       "      <td>...</td>\n",
       "      <td></td>\n",
       "      <td></td>\n",
       "      <td></td>\n",
       "      <td></td>\n",
       "      <td></td>\n",
       "      <td></td>\n",
       "      <td></td>\n",
       "      <td></td>\n",
       "      <td>6</td>\n",
       "      <td>291</td>\n",
       "    </tr>\n",
       "    <tr>\n",
       "      <th>2</th>\n",
       "      <td>1851175N26270</td>\n",
       "      <td>1851</td>\n",
       "      <td>5</td>\n",
       "      <td>NaN</td>\n",
       "      <td>GM</td>\n",
       "      <td>NOT_NAMED</td>\n",
       "      <td>1851-06-23 15:00:00</td>\n",
       "      <td>TS</td>\n",
       "      <td>26.2001</td>\n",
       "      <td>-90.6999</td>\n",
       "      <td>...</td>\n",
       "      <td></td>\n",
       "      <td></td>\n",
       "      <td></td>\n",
       "      <td></td>\n",
       "      <td></td>\n",
       "      <td></td>\n",
       "      <td></td>\n",
       "      <td></td>\n",
       "      <td>6</td>\n",
       "      <td>290</td>\n",
       "    </tr>\n",
       "    <tr>\n",
       "      <th>3</th>\n",
       "      <td>1851175N26270</td>\n",
       "      <td>1851</td>\n",
       "      <td>5</td>\n",
       "      <td>NaN</td>\n",
       "      <td>GM</td>\n",
       "      <td>NOT_NAMED</td>\n",
       "      <td>1851-06-23 18:00:00</td>\n",
       "      <td>TS</td>\n",
       "      <td>26.3000</td>\n",
       "      <td>-91.0000</td>\n",
       "      <td>...</td>\n",
       "      <td></td>\n",
       "      <td></td>\n",
       "      <td></td>\n",
       "      <td></td>\n",
       "      <td></td>\n",
       "      <td></td>\n",
       "      <td></td>\n",
       "      <td></td>\n",
       "      <td>6</td>\n",
       "      <td>290</td>\n",
       "    </tr>\n",
       "  </tbody>\n",
       "</table>\n",
       "<p>3 rows × 163 columns</p>\n",
       "</div>"
      ],
      "text/plain": [
       "             SID SEASON NUMBER BASIN SUBBASIN       NAME             ISO_TIME  \\\n",
       "1  1851175N26270   1851      5   NaN       GM  NOT_NAMED  1851-06-23 12:00:00   \n",
       "2  1851175N26270   1851      5   NaN       GM  NOT_NAMED  1851-06-23 15:00:00   \n",
       "3  1851175N26270   1851      5   NaN       GM  NOT_NAMED  1851-06-23 18:00:00   \n",
       "\n",
       "  NATURE      LAT       LON  ... BOM_GUST_PER REUNION_GUST REUNION_GUST_PER  \\\n",
       "1     TS  26.1000  -90.4000  ...                                              \n",
       "2     TS  26.2001  -90.6999  ...                                              \n",
       "3     TS  26.3000  -91.0000  ...                                              \n",
       "\n",
       "  USA_SEAHGT USA_SEARAD_NE USA_SEARAD_SE USA_SEARAD_SW USA_SEARAD_NW  \\\n",
       "1                                                                      \n",
       "2                                                                      \n",
       "3                                                                      \n",
       "\n",
       "  STORM_SPEED STORM_DIR  \n",
       "1           6       291  \n",
       "2           6       290  \n",
       "3           6       290  \n",
       "\n",
       "[3 rows x 163 columns]"
      ]
     },
     "execution_count": 2,
     "metadata": {},
     "output_type": "execute_result"
    }
   ],
   "source": [
    "df = pd.read_csv('/Users/bendixon/Documents/GitHub/climate/ibtracs.NA.list.v04r00.csv',dtype=object)\n",
    "# added this dtype as otherwise it was showing an error for mixed dtype\n",
    "df = df.iloc[1:,:]\n",
    "df.shape\n",
    "df.head(3)"
   ]
  },
  {
   "cell_type": "code",
   "execution_count": 3,
   "metadata": {
    "scrolled": true
   },
   "outputs": [
    {
     "data": {
      "text/html": [
       "<div>\n",
       "<style scoped>\n",
       "    .dataframe tbody tr th:only-of-type {\n",
       "        vertical-align: middle;\n",
       "    }\n",
       "\n",
       "    .dataframe tbody tr th {\n",
       "        vertical-align: top;\n",
       "    }\n",
       "\n",
       "    .dataframe thead th {\n",
       "        text-align: right;\n",
       "    }\n",
       "</style>\n",
       "<table border=\"1\" class=\"dataframe\">\n",
       "  <thead>\n",
       "    <tr style=\"text-align: right;\">\n",
       "      <th></th>\n",
       "      <th>SID</th>\n",
       "      <th>SEASON</th>\n",
       "      <th>NUMBER</th>\n",
       "      <th>BASIN</th>\n",
       "      <th>SUBBASIN</th>\n",
       "      <th>NAME</th>\n",
       "      <th>ISO_TIME</th>\n",
       "      <th>NATURE</th>\n",
       "      <th>LAT</th>\n",
       "      <th>LON</th>\n",
       "      <th>...</th>\n",
       "      <th>BOM_GUST_PER</th>\n",
       "      <th>REUNION_GUST</th>\n",
       "      <th>REUNION_GUST_PER</th>\n",
       "      <th>USA_SEAHGT</th>\n",
       "      <th>USA_SEARAD_NE</th>\n",
       "      <th>USA_SEARAD_SE</th>\n",
       "      <th>USA_SEARAD_SW</th>\n",
       "      <th>USA_SEARAD_NW</th>\n",
       "      <th>STORM_SPEED</th>\n",
       "      <th>STORM_DIR</th>\n",
       "    </tr>\n",
       "  </thead>\n",
       "  <tbody>\n",
       "    <tr>\n",
       "      <th>count</th>\n",
       "      <td>122369</td>\n",
       "      <td>122369</td>\n",
       "      <td>122369</td>\n",
       "      <td>542</td>\n",
       "      <td>29260</td>\n",
       "      <td>122369</td>\n",
       "      <td>122369</td>\n",
       "      <td>122369</td>\n",
       "      <td>122369</td>\n",
       "      <td>122369</td>\n",
       "      <td>...</td>\n",
       "      <td>122369</td>\n",
       "      <td>122369</td>\n",
       "      <td>122369</td>\n",
       "      <td>122369</td>\n",
       "      <td>122369</td>\n",
       "      <td>122369</td>\n",
       "      <td>122369</td>\n",
       "      <td>122369</td>\n",
       "      <td>122369</td>\n",
       "      <td>122369</td>\n",
       "    </tr>\n",
       "    <tr>\n",
       "      <th>unique</th>\n",
       "      <td>2266</td>\n",
       "      <td>170</td>\n",
       "      <td>137</td>\n",
       "      <td>2</td>\n",
       "      <td>4</td>\n",
       "      <td>294</td>\n",
       "      <td>89296</td>\n",
       "      <td>6</td>\n",
       "      <td>39834</td>\n",
       "      <td>51525</td>\n",
       "      <td>...</td>\n",
       "      <td>1</td>\n",
       "      <td>1</td>\n",
       "      <td>1</td>\n",
       "      <td>2</td>\n",
       "      <td>178</td>\n",
       "      <td>173</td>\n",
       "      <td>160</td>\n",
       "      <td>170</td>\n",
       "      <td>81</td>\n",
       "      <td>362</td>\n",
       "    </tr>\n",
       "    <tr>\n",
       "      <th>top</th>\n",
       "      <td>1899215N12329</td>\n",
       "      <td>1887</td>\n",
       "      <td>43</td>\n",
       "      <td>EP</td>\n",
       "      <td>CS</td>\n",
       "      <td>NOT_NAMED</td>\n",
       "      <td>2020-09-16 21:00:00</td>\n",
       "      <td>TS</td>\n",
       "      <td>14.0000</td>\n",
       "      <td>-73.5000</td>\n",
       "      <td>...</td>\n",
       "      <td></td>\n",
       "      <td></td>\n",
       "      <td></td>\n",
       "      <td></td>\n",
       "      <td></td>\n",
       "      <td></td>\n",
       "      <td></td>\n",
       "      <td></td>\n",
       "      <td>10</td>\n",
       "      <td>270</td>\n",
       "    </tr>\n",
       "    <tr>\n",
       "      <th>freq</th>\n",
       "      <td>264</td>\n",
       "      <td>1907</td>\n",
       "      <td>2172</td>\n",
       "      <td>524</td>\n",
       "      <td>15279</td>\n",
       "      <td>72416</td>\n",
       "      <td>7</td>\n",
       "      <td>104029</td>\n",
       "      <td>363</td>\n",
       "      <td>214</td>\n",
       "      <td>...</td>\n",
       "      <td>122369</td>\n",
       "      <td>122369</td>\n",
       "      <td>122369</td>\n",
       "      <td>116073</td>\n",
       "      <td>116309</td>\n",
       "      <td>116915</td>\n",
       "      <td>117753</td>\n",
       "      <td>117079</td>\n",
       "      <td>8958</td>\n",
       "      <td>3128</td>\n",
       "    </tr>\n",
       "  </tbody>\n",
       "</table>\n",
       "<p>4 rows × 163 columns</p>\n",
       "</div>"
      ],
      "text/plain": [
       "                  SID  SEASON  NUMBER BASIN SUBBASIN       NAME  \\\n",
       "count          122369  122369  122369   542    29260     122369   \n",
       "unique           2266     170     137     2        4        294   \n",
       "top     1899215N12329    1887      43    EP       CS  NOT_NAMED   \n",
       "freq              264    1907    2172   524    15279      72416   \n",
       "\n",
       "                   ISO_TIME  NATURE      LAT       LON  ... BOM_GUST_PER  \\\n",
       "count                122369  122369   122369    122369  ...       122369   \n",
       "unique                89296       6    39834     51525  ...            1   \n",
       "top     2020-09-16 21:00:00      TS  14.0000  -73.5000  ...                \n",
       "freq                      7  104029      363       214  ...       122369   \n",
       "\n",
       "       REUNION_GUST REUNION_GUST_PER USA_SEAHGT USA_SEARAD_NE USA_SEARAD_SE  \\\n",
       "count        122369           122369     122369        122369        122369   \n",
       "unique            1                1          2           178           173   \n",
       "top                                                                           \n",
       "freq         122369           122369     116073        116309        116915   \n",
       "\n",
       "       USA_SEARAD_SW USA_SEARAD_NW STORM_SPEED STORM_DIR  \n",
       "count         122369        122369      122369    122369  \n",
       "unique           160           170          81       362  \n",
       "top                                         10       270  \n",
       "freq          117753        117079        8958      3128  \n",
       "\n",
       "[4 rows x 163 columns]"
      ]
     },
     "execution_count": 3,
     "metadata": {},
     "output_type": "execute_result"
    }
   ],
   "source": [
    "df.describe()"
   ]
  },
  {
   "cell_type": "code",
   "execution_count": 4,
   "metadata": {},
   "outputs": [],
   "source": [
    "# Get the storm ID and the year\n",
    "sid = df.loc[:,'SID']\n",
    "season = df.loc[:,'SEASON']\n",
    "# put it together in one string\n",
    "sid_season = sid + season\n",
    "# get the unique values from that \n",
    "uniques = sid_season.unique()\n",
    "# then get the last four characters from that, in order to get the year\n",
    "uniques = pd.DataFrame(uniques,dtype=str)\n",
    "ylist = uniques[0].str[-4:]\n",
    "ylist = np.array(ylist,dtype=int)"
   ]
  },
  {
   "cell_type": "code",
   "execution_count": 19,
   "metadata": {},
   "outputs": [
    {
     "data": {
      "text/plain": [
       "Text(0.5, 1.0, 'Histogram of storms 1850-2020')"
      ]
     },
     "execution_count": 19,
     "metadata": {},
     "output_type": "execute_result"
    },
    {
     "data": {
      "image/png": "[encoded data removed]",
      "text/plain": [
       "<Figure size 432x288 with 1 Axes>"
      ]
     },
     "metadata": {
      "needs_background": "light"
     },
     "output_type": "display_data"
    }
   ],
   "source": [
    "import matplotlib.pyplot as plt\n",
    "# create plot\n",
    "fig1 = plt.figure()\n",
    "# add figure\n",
    "ax = fig1.add_subplot(111)\n",
    "ax.hist(ylist)\n",
    "ax.set_title('Histogram of storms 1850-2020')"
   ]
  },
  {
   "cell_type": "code",
   "execution_count": 13,
   "metadata": {},
   "outputs": [],
   "source": [
    "ylist = ylist.tolist()"
   ]
  },
  {
   "cell_type": "code",
   "execution_count": 17,
   "metadata": {},
   "outputs": [
    {
     "name": "stdout",
     "output_type": "stream",
     "text": [
      "[0, 15, 12, 19, 12, 11, 12, 13, 13, 15, 16, 18, 13, 14, 12, 14, 13, 19, 9, 14, 20, 17, 10, 10, 12, 9, 15, 13, 25, 17, 19, 20, 12, 10, 8, 13, 15, 35, 18, 17, 7, 19, 15, 20, 11, 15, 11, 9, 18, 10, 7, 13, 5, 10, 6, 5, 11, 5, 10, 12, 5, 6, 7, 6, 1, 6, 15, 4, 6, 5, 5, 7, 5, 9, 11, 4, 11, 8, 6, 5, 3, 13, 15, 20, 13, 8, 17, 11, 9, 6, 9, 6, 11, 10, 14, 11, 7, 10, 10, 16, 16, 12, 11, 14, 16, 13, 12, 8, 12, 14, 8, 13, 7, 10, 13, 10, 11, 26, 15, 30, 19, 22, 19, 17, 20, 23, 21, 15, 24, 20, 18, 22, 8, 6, 20, 14, 10, 14, 19, 15, 16, 12, 10, 10, 12, 21, 13, 9, 14, 16, 19, 17, 14, 21, 16, 31, 10, 17, 17, 11, 21, 20, 19, 16, 9, 12, 16, 19, 16, 20, 26, 0, 0, 0, 0]\n"
     ]
    }
   ],
   "source": [
    "counts_by_year = []\n",
    "for i in range(1850,2025):\n",
    "    counts = ylist.count(i)\n",
    "    counts_by_year.append(counts)\n",
    "print(counts_by_year)"
   ]
  },
  {
   "cell_type": "code",
   "execution_count": 21,
   "metadata": {},
   "outputs": [
    {
     "data": {
      "text/plain": [
       "[Text(0.5, 1.0, 'Count of storms by year')]"
      ]
     },
     "execution_count": 21,
     "metadata": {},
     "output_type": "execute_result"
    },
    {
     "data": {
      "image/png": "[encoded data removed]",
      "text/plain": [
       "<Figure size 432x288 with 1 Axes>"
      ]
     },
     "metadata": {
      "needs_background": "light"
     },
     "output_type": "display_data"
    }
   ],
   "source": [
    "# create plot\n",
    "fig2 = plt.figure()\n",
    "# add figure\n",
    "ax2 = fig2.add_subplot(111)\n",
    "ax2.scatter(range(1850,2025),counts_by_year)\n",
    "ax2.set(Title='Count of storms by year')"
   ]
  },
  {
   "cell_type": "code",
   "execution_count": 6,
   "metadata": {},
   "outputs": [],
   "source": [
    "# Useful things to look at: max wind speed\n",
    "# col - USA_WIND"
   ]
  },
  {
   "cell_type": "code",
   "execution_count": 37,
   "metadata": {},
   "outputs": [],
   "source": [
    "# after 1900\n",
    "s = np.array(df['SEASON'],dtype=int)\n",
    "w = np.array(df['USA_WIND']) # problem in that lots of old data doesn't have windspeed\n",
    "wn = w[ w != ' '] # using Boolean to only get the values where there is data\n",
    "s = s[ w != ' ']"
   ]
  },
  {
   "cell_type": "code",
   "execution_count": 38,
   "metadata": {},
   "outputs": [],
   "source": [
    "s = np.array(s,dtype=int)\n",
    "wn = np.array(wn,dtype=int)"
   ]
  },
  {
   "cell_type": "code",
   "execution_count": 42,
   "metadata": {},
   "outputs": [
    {
     "name": "stdout",
     "output_type": "stream",
     "text": [
      "(101858,)\n",
      "(101858,)\n"
     ]
    }
   ],
   "source": [
    "print(wn.shape) # checking the same rough size\n",
    "print(s.shape)"
   ]
  },
  {
   "cell_type": "code",
   "execution_count": 43,
   "metadata": {},
   "outputs": [
    {
     "data": {
      "text/plain": [
       "[Text(0, 0.5, 'windspeed in mph'), Text(0.5, 1.0, 'Windspeed by year')]"
      ]
     },
     "execution_count": 43,
     "metadata": {},
     "output_type": "execute_result"
    },
    {
     "data": {
      "image/png": "[encoded data removed]",
      "text/plain": [
       "<Figure size 432x288 with 1 Axes>"
      ]
     },
     "metadata": {
      "needs_background": "light"
     },
     "output_type": "display_data"
    }
   ],
   "source": [
    "# lots of values, maybe there are multiple recordings for each storm\n",
    "# this data set has 100K observations, but unique for numbers of storms is 2K\n",
    "fig2 = plt.figure()\n",
    "ax1 = fig2.add_subplot(111)\n",
    "ax1.scatter(s,wn)\n",
    "ax1.set(title='Windspeed by year', ylabel='windspeed in mph')"
   ]
  },
  {
   "cell_type": "code",
   "execution_count": 60,
   "metadata": {},
   "outputs": [],
   "source": [
    "years = np.array(df['SEASON'].unique(),dtype=str)"
   ]
  },
  {
   "cell_type": "code",
   "execution_count": 62,
   "metadata": {},
   "outputs": [
    {
     "data": {
      "text/plain": [
       "596"
      ]
     },
     "execution_count": 62,
     "metadata": {},
     "output_type": "execute_result"
    }
   ],
   "source": [
    "len(df[df['SEASON'] == '1900'])"
   ]
  },
  {
   "cell_type": "code",
   "execution_count": 79,
   "metadata": {},
   "outputs": [],
   "source": [
    "df = df[df['USA_WIND'] != ' '] # get rid of the zero values\n",
    "windt = []\n",
    "for i in years:\n",
    "    sub = df[df['SEASON'] == i]\n",
    "    wind = np.array(sub['USA_WIND'],dtype=int)\n",
    "    windm = wind.mean()\n",
    "    windt.append(windm)\n",
    "windt = np.array(windt,dtype=float)"
   ]
  },
  {
   "cell_type": "code",
   "execution_count": 80,
   "metadata": {},
   "outputs": [],
   "source": [
    "ys = np.array(years,dtype=int)"
   ]
  },
  {
   "cell_type": "code",
   "execution_count": 111,
   "metadata": {},
   "outputs": [
    {
     "data": {
      "text/plain": [
       "[Text(0, 0.5, 'Avg speed in mph'),\n",
       " Text(0.5, 1.0, 'Average wind speed per year, over all storms in year')]"
      ]
     },
     "execution_count": 111,
     "metadata": {},
     "output_type": "execute_result"
    },
    {
     "data": {
      "image/png": "[encoded data removed]",
      "text/plain": [
       "<Figure size 720x432 with 1 Axes>"
      ]
     },
     "metadata": {
      "needs_background": "light"
     },
     "output_type": "display_data"
    }
   ],
   "source": [
    "import matplotlib as mpl\n",
    "fig3 = plt.figure(figsize=(10,6)) # increasing size of figure\n",
    "ax3 = fig3.add_subplot(111)\n",
    "ax3.scatter(ys,windt)\n",
    "ax3.set(title='Average wind speed per year, over all storms in year', ylabel='Avg speed in mph')\n",
    "# Interesting that this trends down over time! Maybe the arrays are backwards"
   ]
  },
  {
   "cell_type": "code",
   "execution_count": 110,
   "metadata": {},
   "outputs": [
    {
     "name": "stdout",
     "output_type": "stream",
     "text": [
      "[59 59 59 ... 32 32 32]\n"
     ]
    }
   ],
   "source": [
    "# What about average speed per storm type?\n",
    "# Storm type is given by column NATURE\n",
    "ids = np.array(df['SID'])\n",
    "df = df[ df['USA_WIND'] != ' '] # removing the blank values\n",
    "windt2 = []\n",
    "for i in ids:\n",
    "    sub = df[ df['SID'] == i]\n",
    "    wind = np.array(sub['USA_WIND'],dtype=int)\n",
    "    windm = wind.mean()\n",
    "    windt2.append(windm)\n",
    "windt2 = np.array(windt2,dtype=int)\n",
    "print(windt2)"
   ]
  },
  {
   "cell_type": "code",
   "execution_count": 113,
   "metadata": {},
   "outputs": [
    {
     "name": "stdout",
     "output_type": "stream",
     "text": [
      "101858\n",
      "170\n"
     ]
    }
   ],
   "source": [
    "print(len(windt2))\n",
    "print(len(windt))"
   ]
  },
  {
   "cell_type": "code",
   "execution_count": 141,
   "metadata": {},
   "outputs": [],
   "source": [
    "years_ids = []\n",
    "for i in ids:\n",
    "    sub = df[ df['SID'] == i]\n",
    "    year = sub['SEASON']\n",
    "    year_id = year.min()\n",
    "    years_ids.append(year_id)"
   ]
  },
  {
   "cell_type": "code",
   "execution_count": 123,
   "metadata": {},
   "outputs": [],
   "source": [
    "years_ids = np.array(years_ids,dtype=int)"
   ]
  },
  {
   "cell_type": "code",
   "execution_count": 121,
   "metadata": {},
   "outputs": [
    {
     "data": {
      "text/plain": [
       "101858"
      ]
     },
     "execution_count": 121,
     "metadata": {},
     "output_type": "execute_result"
    }
   ],
   "source": [
    "len(years_ids)"
   ]
  },
  {
   "cell_type": "code",
   "execution_count": 130,
   "metadata": {},
   "outputs": [
    {
     "data": {
      "text/plain": [
       "[Text(0, 0.5, 'Avg speed in mph'),\n",
       " Text(0.5, 1.0, 'Average wind speed per storm')]"
      ]
     },
     "execution_count": 130,
     "metadata": {},
     "output_type": "execute_result"
    },
    {
     "data": {
      "image/png": "[encoded data removed]",
      "text/plain": [
       "<Figure size 720x432 with 1 Axes>"
      ]
     },
     "metadata": {
      "needs_background": "light"
     },
     "output_type": "display_data"
    }
   ],
   "source": [
    "fig4 = plt.figure(figsize=(10,6))\n",
    "ax4 = fig4.add_subplot()\n",
    "ax4.scatter(years_ids,windt2)\n",
    "ax4.set(title='Average wind speed per storm', ylabel='Avg speed in mph')"
   ]
  },
  {
   "cell_type": "code",
   "execution_count": null,
   "metadata": {},
   "outputs": [],
   "source": [
    "# What about if we want to split storms up by type?\n",
    "# This also takes loads of processor time\n",
    "ns = []\n",
    "for i in ids:\n",
    "    n = df.loc[df['SID'] == i]['NATURE'].unique()\n",
    "    ns.append(n)\n",
    "print(ns)"
   ]
  },
  {
   "cell_type": "markdown",
   "metadata": {},
   "source": [
    "### Workings\n"
   ]
  },
  {
   "cell_type": "code",
   "execution_count": 12,
   "metadata": {},
   "outputs": [
    {
     "name": "stdout",
     "output_type": "stream",
     "text": [
      "(122369,)\n",
      "[False False False ...  True  True  True]\n",
      "(84037, 163)\n"
     ]
    }
   ],
   "source": [
    "# Subset of the array since 1900, using Boolean\n",
    "year = df.loc[:,'SEASON']\n",
    "year = np.array(year,dtype=int)\n",
    "print(year.shape)\n",
    "print(year > 1900)\n",
    "print(df[year>1900].shape)"
   ]
  },
  {
   "cell_type": "code",
   "execution_count": 13,
   "metadata": {
    "scrolled": true
   },
   "outputs": [
    {
     "data": {
      "text/plain": [
       "1         -90.4000\n",
       "2         -90.6999\n",
       "3         -91.0000\n",
       "4         -91.3001\n",
       "5         -91.6000\n",
       "            ...   \n",
       "122365    -87.1500\n",
       "122366    -87.3363\n",
       "122367    -87.5000\n",
       "122368    -87.6898\n",
       "122369    -87.9000\n",
       "Name: LON, Length: 122369, dtype: object"
      ]
     },
     "execution_count": 13,
     "metadata": {},
     "output_type": "execute_result"
    }
   ],
   "source": [
    "df.loc[:,'LON'] # for pandas, uses square brackets to get a particular value"
   ]
  }
 ],
 "metadata": {
  "kernelspec": {
   "display_name": "Python 3",
   "language": "python",
   "name": "python3"
  },
  "language_info": {
   "codemirror_mode": {
    "name": "ipython",
    "version": 3
   },
   "file_extension": ".py",
   "mimetype": "text/x-python",
   "name": "python",
   "nbconvert_exporter": "python",
   "pygments_lexer": "ipython3",
   "version": "3.8.3"
  }
 },
 "nbformat": 4,
 "nbformat_minor": 4
}
