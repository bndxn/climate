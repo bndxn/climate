{
 "cells": [
  {
   "cell_type": "markdown",
   "metadata": {},
   "source": [
    "**2. Working with ensemble data**\n",
    "\n",
    "To do this you will need to download \"HadSST.4.0.0.0_ensemble.zip\" from https://www.metoffice.gov.uk/hadobs/hadsst4/data/download.html it is a massive folder of 200 ensemble members! A useful tool for looking at netcdf files: Panoply (Nasa) https://www.giss.nasa.gov/tools/panoply/ \n",
    "\n",
    "Model ensembles are very common. They represent a group (anywhere between 2 and 100+) of *model runs* using similar initial conditions. The initial conditions are varied slightly for each run to mimic randomness within the earth system. \n",
    "\n",
    "1. Initialise any arrays\n",
    "\n",
    "2. Create a for loop which loops through the files in the ensemble foler and loads each sst file and the variables\n",
    "\n",
    "3. Within the for loop calculate the baseline, current climates and anomalies for each of the files\n",
    "uses formulas from last week \n",
    "\n",
    "4. For each type of climate: baselines, currents and anomalies, concatenate the arrays so you end up with three arrays of shape (200,36,72) (as you have 200 files, you will have 200 values for each grid point) \n",
    "data2 = pd.concat([year, anomaly], axis=1) # learned to concatenate two series into a df\n",
    "\n",
    "5. outside of the for loop calculate the anomaly mean (for each grid point)\n",
    "\n",
    "\n",
    "\n",
    "6. Now loop through all of the grid points and compare the distributions of the baseline compared to the currents - are they significantly different (i.e. is the global sst now significantly different from what it was during the baseline?)\n",
    "\n",
    "\n",
    "You should output:\n",
    "\n",
    "* an anomaly array of shape (36,72) which represents current - baseline SST\n",
    "* a boolean array of shape (36,72) which represents whether there is a statistical significant difference between baseline and current\n",
    "So this is not straightforward, if you're finding it impossible then just use the answers for this bit and try to understand what each line is doing.\n",
    "\n"
   ]
  },
  {
   "cell_type": "code",
   "execution_count": 1,
   "metadata": {},
   "outputs": [],
   "source": [
    "import numpy as np\n",
    "import pandas as pd\n",
    "import matplotlib.pyplot as plt\n",
    "import cartopy.crs as ccrs\n",
    "from netCDF4 import Dataset,num2date\n",
    "from datetime import date, timedelta"
   ]
  },
  {
   "cell_type": "markdown",
   "metadata": {},
   "source": [
    "**1. Initialise any arrays** "
   ]
  },
  {
   "cell_type": "code",
   "execution_count": 2,
   "metadata": {},
   "outputs": [
    {
     "data": {
      "text/plain": [
       "array([[0., 0., 0., ..., 0., 0., 0.],\n",
       "       [0., 0., 0., ..., 0., 0., 0.],\n",
       "       [0., 0., 0., ..., 0., 0., 0.],\n",
       "       ...,\n",
       "       [0., 0., 0., ..., 0., 0., 0.],\n",
       "       [0., 0., 0., ..., 0., 0., 0.],\n",
       "       [0., 0., 0., ..., 0., 0., 0.]])"
      ]
     },
     "execution_count": 2,
     "metadata": {},
     "output_type": "execute_result"
    }
   ],
   "source": [
    "np.zeros((36,72))"
   ]
  },
  {
   "cell_type": "markdown",
   "metadata": {},
   "source": [
    "**2. Create a for loop which loops through the files in the ensemble foler and loads each sst file and the variables**"
   ]
  },
  {
   "cell_type": "code",
   "execution_count": 3,
   "metadata": {},
   "outputs": [
    {
     "name": "stdout",
     "output_type": "stream",
     "text": [
      "HadSST.4.0.0.0_ensemble_member_67.nc\n",
      "HadSST.4.0.0.0_ensemble_member_36.nc\n",
      "HadSST.4.0.0.0_ensemble_member_94.nc\n",
      "HadSST.4.0.0.0_ensemble_member_53.nc\n",
      "HadSST.4.0.0.0_ensemble_member_43.nc\n",
      "HadSST.4.0.0.0_ensemble_member_12.nc\n",
      "HadSST.4.0.0.0_ensemble_member_84.nc\n",
      "HadSST.4.0.0.0_ensemble_member_26.nc\n",
      "HadSST.4.0.0.0_ensemble_member_77.nc\n",
      "HadSST.4.0.0.0_ensemble_member_57.nc\n",
      "HadSST.4.0.0.0_ensemble_member_198.nc\n",
      "HadSST.4.0.0.0_ensemble_member_32.nc\n",
      "HadSST.4.0.0.0_ensemble_member_63.nc\n",
      "HadSST.4.0.0.0_ensemble_member_90.nc\n",
      "HadSST.4.0.0.0_ensemble_member_4.nc\n",
      "HadSST.4.0.0.0_ensemble_member_80.nc\n",
      "HadSST.4.0.0.0_ensemble_member_73.nc\n",
      "HadSST.4.0.0.0_ensemble_member_22.nc\n",
      "HadSST.4.0.0.0_ensemble_member_16.nc\n",
      "HadSST.4.0.0.0_ensemble_member_188.nc\n",
      "HadSST.4.0.0.0_ensemble_member_47.nc\n",
      "HadSST.4.0.0.0_ensemble_member_56.nc\n",
      "HadSST.4.0.0.0_ensemble_member_199.nc\n",
      "HadSST.4.0.0.0_ensemble_member_33.nc\n",
      "HadSST.4.0.0.0_ensemble_member_62.nc\n",
      "HadSST.4.0.0.0_ensemble_member_91.nc\n",
      "HadSST.4.0.0.0_ensemble_member_5.nc\n",
      "HadSST.4.0.0.0_ensemble_member_81.nc\n",
      "HadSST.4.0.0.0_ensemble_member_72.nc\n",
      "HadSST.4.0.0.0_ensemble_member_23.nc\n",
      "HadSST.4.0.0.0_ensemble_member_17.nc\n",
      "HadSST.4.0.0.0_ensemble_member_189.nc\n",
      "HadSST.4.0.0.0_ensemble_member_46.nc\n",
      "HadSST.4.0.0.0_ensemble_member_66.nc\n",
      "HadSST.4.0.0.0_ensemble_member_37.nc\n",
      "HadSST.4.0.0.0_ensemble_member_95.nc\n",
      "HadSST.4.0.0.0_ensemble_member_52.nc\n",
      "HadSST.4.0.0.0_ensemble_member_1.nc\n",
      "HadSST.4.0.0.0_ensemble_member_42.nc\n",
      "HadSST.4.0.0.0_ensemble_member_13.nc\n",
      "HadSST.4.0.0.0_ensemble_member_85.nc\n",
      "HadSST.4.0.0.0_ensemble_member_27.nc\n",
      "HadSST.4.0.0.0_ensemble_member_76.nc\n",
      "HadSST.4.0.0.0_ensemble_member_151.nc\n",
      "HadSST.4.0.0.0_ensemble_member_100.nc\n",
      "HadSST.4.0.0.0_ensemble_member_134.nc\n",
      "HadSST.4.0.0.0_ensemble_member_165.nc\n",
      "HadSST.4.0.0.0_ensemble_member_196.nc\n",
      "HadSST.4.0.0.0_ensemble_member_59.nc\n",
      "HadSST.4.0.0.0_ensemble_member_49.nc\n",
      "HadSST.4.0.0.0_ensemble_member_18.nc\n",
      "HadSST.4.0.0.0_ensemble_member_186.nc\n",
      "HadSST.4.0.0.0_ensemble_member_175.nc\n",
      "HadSST.4.0.0.0_ensemble_member_124.nc\n",
      "HadSST.4.0.0.0_ensemble_member_110.nc\n",
      "HadSST.4.0.0.0_ensemble_member_141.nc\n",
      "HadSST.4.0.0.0_ensemble_member_161.nc\n",
      "HadSST.4.0.0.0_ensemble_member_130.nc\n",
      "HadSST.4.0.0.0_ensemble_member_192.nc\n",
      "HadSST.4.0.0.0_ensemble_member_104.nc\n",
      "HadSST.4.0.0.0_ensemble_member_155.nc\n",
      "HadSST.4.0.0.0_ensemble_member_38.nc\n",
      "HadSST.4.0.0.0_ensemble_member_69.nc\n",
      "HadSST.4.0.0.0_ensemble_member_79.nc\n",
      "HadSST.4.0.0.0_ensemble_member_28.nc\n",
      "HadSST.4.0.0.0_ensemble_member_145.nc\n",
      "HadSST.4.0.0.0_ensemble_member_114.nc\n",
      "HadSST.4.0.0.0_ensemble_member_182.nc\n",
      "HadSST.4.0.0.0_ensemble_member_120.nc\n",
      "HadSST.4.0.0.0_ensemble_member_171.nc\n",
      "HadSST.4.0.0.0_ensemble_member_160.nc\n",
      "HadSST.4.0.0.0_ensemble_member_131.nc\n",
      "HadSST.4.0.0.0_ensemble_member_193.nc\n",
      "HadSST.4.0.0.0_ensemble_member_105.nc\n",
      "HadSST.4.0.0.0_ensemble_member_154.nc\n",
      "HadSST.4.0.0.0_ensemble_member_39.nc\n",
      "HadSST.4.0.0.0_ensemble_member_68.nc\n",
      "HadSST.4.0.0.0_ensemble_member_78.nc\n",
      "HadSST.4.0.0.0_ensemble_member_29.nc\n",
      "HadSST.4.0.0.0_ensemble_member_144.nc\n",
      "HadSST.4.0.0.0_ensemble_member_115.nc\n",
      "HadSST.4.0.0.0_ensemble_member_183.nc\n",
      "HadSST.4.0.0.0_ensemble_member_121.nc\n",
      "HadSST.4.0.0.0_ensemble_member_170.nc\n",
      "HadSST.4.0.0.0_ensemble_member_150.nc\n",
      "HadSST.4.0.0.0_ensemble_member_101.nc\n",
      "HadSST.4.0.0.0_ensemble_member_135.nc\n",
      "HadSST.4.0.0.0_ensemble_member_164.nc\n",
      "HadSST.4.0.0.0_ensemble_member_197.nc\n",
      "HadSST.4.0.0.0_ensemble_member_58.nc\n",
      "HadSST.4.0.0.0_ensemble_member_48.nc\n",
      "HadSST.4.0.0.0_ensemble_member_19.nc\n",
      "HadSST.4.0.0.0_ensemble_member_187.nc\n",
      "HadSST.4.0.0.0_ensemble_member_174.nc\n",
      "HadSST.4.0.0.0_ensemble_member_125.nc\n",
      "HadSST.4.0.0.0_ensemble_member_111.nc\n",
      "HadSST.4.0.0.0_ensemble_member_140.nc\n",
      "HadSST.4.0.0.0_ensemble_member_190.nc\n",
      "HadSST.4.0.0.0_ensemble_member_132.nc\n",
      "HadSST.4.0.0.0_ensemble_member_163.nc\n",
      "HadSST.4.0.0.0_ensemble_member_157.nc\n",
      "HadSST.4.0.0.0_ensemble_member_98.nc\n",
      "HadSST.4.0.0.0_ensemble_member_106.nc\n",
      "HadSST.4.0.0.0_ensemble_member_116.nc\n",
      "HadSST.4.0.0.0_ensemble_member_88.nc\n",
      "HadSST.4.0.0.0_ensemble_member_147.nc\n",
      "HadSST.4.0.0.0_ensemble_member_173.nc\n",
      "HadSST.4.0.0.0_ensemble_member_122.nc\n",
      "HadSST.4.0.0.0_ensemble_member_180.nc\n",
      "HadSST.4.0.0.0_ensemble_member_102.nc\n",
      "HadSST.4.0.0.0_ensemble_member_153.nc\n",
      "HadSST.4.0.0.0_ensemble_member_194.nc\n",
      "HadSST.4.0.0.0_ensemble_member_167.nc\n",
      "HadSST.4.0.0.0_ensemble_member_136.nc\n",
      "HadSST.4.0.0.0_ensemble_member_126.nc\n",
      "HadSST.4.0.0.0_ensemble_member_177.nc\n",
      "HadSST.4.0.0.0_ensemble_member_184.nc\n",
      "HadSST.4.0.0.0_ensemble_member_143.nc\n",
      "HadSST.4.0.0.0_ensemble_member_112.nc\n",
      "HadSST.4.0.0.0_ensemble_member_8.nc\n",
      "HadSST.4.0.0.0_ensemble_member_103.nc\n",
      "HadSST.4.0.0.0_ensemble_member_152.nc\n",
      "HadSST.4.0.0.0_ensemble_member_195.nc\n",
      "HadSST.4.0.0.0_ensemble_member_166.nc\n",
      "HadSST.4.0.0.0_ensemble_member_137.nc\n",
      "HadSST.4.0.0.0_ensemble_member_127.nc\n",
      "HadSST.4.0.0.0_ensemble_member_176.nc\n",
      "HadSST.4.0.0.0_ensemble_member_185.nc\n",
      "HadSST.4.0.0.0_ensemble_member_142.nc\n",
      "HadSST.4.0.0.0_ensemble_member_113.nc\n",
      "HadSST.4.0.0.0_ensemble_member_9.nc\n",
      "HadSST.4.0.0.0_ensemble_member_200.nc\n",
      "HadSST.4.0.0.0_ensemble_member_191.nc\n",
      "HadSST.4.0.0.0_ensemble_member_133.nc\n",
      "HadSST.4.0.0.0_ensemble_member_162.nc\n",
      "HadSST.4.0.0.0_ensemble_member_156.nc\n",
      "HadSST.4.0.0.0_ensemble_member_99.nc\n",
      "HadSST.4.0.0.0_ensemble_member_107.nc\n",
      "HadSST.4.0.0.0_ensemble_member_117.nc\n",
      "HadSST.4.0.0.0_ensemble_member_89.nc\n",
      "HadSST.4.0.0.0_ensemble_member_146.nc\n",
      "HadSST.4.0.0.0_ensemble_member_172.nc\n",
      "HadSST.4.0.0.0_ensemble_member_123.nc\n",
      "HadSST.4.0.0.0_ensemble_member_181.nc\n",
      "HadSST.4.0.0.0_ensemble_member_138.nc\n",
      "HadSST.4.0.0.0_ensemble_member_169.nc\n",
      "HadSST.4.0.0.0_ensemble_member_55.nc\n",
      "HadSST.4.0.0.0_ensemble_member_92.nc\n",
      "HadSST.4.0.0.0_ensemble_member_61.nc\n",
      "HadSST.4.0.0.0_ensemble_member_30.nc\n",
      "HadSST.4.0.0.0_ensemble_member_6.nc\n",
      "HadSST.4.0.0.0_ensemble_member_20.nc\n",
      "HadSST.4.0.0.0_ensemble_member_71.nc\n",
      "HadSST.4.0.0.0_ensemble_member_82.nc\n",
      "HadSST.4.0.0.0_ensemble_member_45.nc\n",
      "HadSST.4.0.0.0_ensemble_member_14.nc\n",
      "HadSST.4.0.0.0_ensemble_member_179.nc\n",
      "HadSST.4.0.0.0_ensemble_member_128.nc\n",
      "HadSST.4.0.0.0_ensemble_member_96.nc\n",
      "HadSST.4.0.0.0_ensemble_member_108.nc\n",
      "HadSST.4.0.0.0_ensemble_member_159.nc\n",
      "HadSST.4.0.0.0_ensemble_member_34.nc\n",
      "HadSST.4.0.0.0_ensemble_member_65.nc\n",
      "HadSST.4.0.0.0_ensemble_member_51.nc\n",
      "HadSST.4.0.0.0_ensemble_member_2.nc\n",
      "HadSST.4.0.0.0_ensemble_member_10.nc\n",
      "HadSST.4.0.0.0_ensemble_member_41.nc\n",
      "HadSST.4.0.0.0_ensemble_member_75.nc\n",
      "HadSST.4.0.0.0_ensemble_member_24.nc\n",
      "HadSST.4.0.0.0_ensemble_member_149.nc\n",
      "HadSST.4.0.0.0_ensemble_member_118.nc\n",
      "HadSST.4.0.0.0_ensemble_member_86.nc\n",
      "HadSST.4.0.0.0_ensemble_member_97.nc\n",
      "HadSST.4.0.0.0_ensemble_member_109.nc\n",
      "HadSST.4.0.0.0_ensemble_member_158.nc\n",
      "HadSST.4.0.0.0_ensemble_member_35.nc\n",
      "HadSST.4.0.0.0_ensemble_member_64.nc\n",
      "HadSST.4.0.0.0_ensemble_member_50.nc\n",
      "HadSST.4.0.0.0_ensemble_member_3.nc\n",
      "HadSST.4.0.0.0_ensemble_member_11.nc\n",
      "HadSST.4.0.0.0_ensemble_member_40.nc\n",
      "HadSST.4.0.0.0_ensemble_member_74.nc\n",
      "HadSST.4.0.0.0_ensemble_member_25.nc\n",
      "HadSST.4.0.0.0_ensemble_member_148.nc\n",
      "HadSST.4.0.0.0_ensemble_member_119.nc\n",
      "HadSST.4.0.0.0_ensemble_member_87.nc\n",
      "HadSST.4.0.0.0_ensemble_member_139.nc\n",
      "HadSST.4.0.0.0_ensemble_member_168.nc\n",
      "HadSST.4.0.0.0_ensemble_member_54.nc\n",
      "HadSST.4.0.0.0_ensemble_member_93.nc\n",
      "HadSST.4.0.0.0_ensemble_member_60.nc\n",
      "HadSST.4.0.0.0_ensemble_member_31.nc\n",
      "HadSST.4.0.0.0_ensemble_member_7.nc\n",
      "HadSST.4.0.0.0_ensemble_member_21.nc\n",
      "HadSST.4.0.0.0_ensemble_member_70.nc\n",
      "HadSST.4.0.0.0_ensemble_member_83.nc\n",
      "HadSST.4.0.0.0_ensemble_member_44.nc\n",
      "HadSST.4.0.0.0_ensemble_member_15.nc\n",
      "HadSST.4.0.0.0_ensemble_member_178.nc\n",
      "HadSST.4.0.0.0_ensemble_member_129.nc\n"
     ]
    }
   ],
   "source": [
    "import os\n",
    "directory = '/Users/bendixon/Documents/HadSST/'\n",
    "for filename in os.listdir(directory): \n",
    "    print(filename)\n",
    "    # sst_file = Dataset(filename)\n",
    "    # variables = sst_file.variables"
   ]
  },
  {
   "cell_type": "code",
   "execution_count": 33,
   "metadata": {},
   "outputs": [
    {
     "ename": "FileNotFoundError",
     "evalue": "[Errno 2] No such file or directory: b'HadSST.4.0.0.0_ensemble_member_67.nc'",
     "output_type": "error",
     "traceback": [
      "\u001b[0;31m---------------------------------------------------------------------------\u001b[0m",
      "\u001b[0;31mFileNotFoundError\u001b[0m                         Traceback (most recent call last)",
      "\u001b[0;32m<ipython-input-33-5b8faa54f419>\u001b[0m in \u001b[0;36m<module>\u001b[0;34m\u001b[0m\n\u001b[1;32m      1\u001b[0m \u001b[0;32mfor\u001b[0m \u001b[0mfilename\u001b[0m \u001b[0;32min\u001b[0m \u001b[0mos\u001b[0m\u001b[0;34m.\u001b[0m\u001b[0mlistdir\u001b[0m\u001b[0;34m(\u001b[0m\u001b[0mdirectory\u001b[0m\u001b[0;34m)\u001b[0m\u001b[0;34m:\u001b[0m\u001b[0;34m\u001b[0m\u001b[0;34m\u001b[0m\u001b[0m\n\u001b[0;32m----> 2\u001b[0;31m     \u001b[0mswta_file\u001b[0m \u001b[0;34m=\u001b[0m \u001b[0mDataset\u001b[0m\u001b[0;34m(\u001b[0m\u001b[0mfilename\u001b[0m\u001b[0;34m)\u001b[0m\u001b[0;34m\u001b[0m\u001b[0;34m\u001b[0m\u001b[0m\n\u001b[0m\u001b[1;32m      3\u001b[0m     \u001b[0mvariables\u001b[0m \u001b[0;34m=\u001b[0m \u001b[0mswta_file\u001b[0m\u001b[0;34m.\u001b[0m\u001b[0mvariables\u001b[0m\u001b[0;34m\u001b[0m\u001b[0;34m\u001b[0m\u001b[0m\n\u001b[1;32m      4\u001b[0m     \u001b[0mswta\u001b[0m \u001b[0;34m=\u001b[0m \u001b[0mswta_file\u001b[0m\u001b[0;34m.\u001b[0m\u001b[0mvariables\u001b[0m\u001b[0;34m[\u001b[0m\u001b[0;34m'tos'\u001b[0m\u001b[0;34m]\u001b[0m\u001b[0;34m[\u001b[0m\u001b[0;34m:\u001b[0m\u001b[0;34m]\u001b[0m\u001b[0;34m\u001b[0m\u001b[0;34m\u001b[0m\u001b[0m\n\u001b[1;32m      5\u001b[0m     \u001b[0mprint\u001b[0m\u001b[0;34m(\u001b[0m\u001b[0mswta\u001b[0m\u001b[0;34m[\u001b[0m\u001b[0;36m0\u001b[0m\u001b[0;34m]\u001b[0m\u001b[0;34m)\u001b[0m\u001b[0;34m\u001b[0m\u001b[0;34m\u001b[0m\u001b[0m\n",
      "\u001b[0;32mnetCDF4/_netCDF4.pyx\u001b[0m in \u001b[0;36mnetCDF4._netCDF4.Dataset.__init__\u001b[0;34m()\u001b[0m\n",
      "\u001b[0;32mnetCDF4/_netCDF4.pyx\u001b[0m in \u001b[0;36mnetCDF4._netCDF4._ensure_nc_success\u001b[0;34m()\u001b[0m\n",
      "\u001b[0;31mFileNotFoundError\u001b[0m: [Errno 2] No such file or directory: b'HadSST.4.0.0.0_ensemble_member_67.nc'"
     ]
    }
   ],
   "source": [
    "for filename in os.listdir(directory):\n",
    "    swta_file = Dataset(filename)\n",
    "    variables = swta_file.variables\n",
    "    swta = swta_file.variables['tos'][:]\n",
    "    print(swta[0])"
   ]
  },
  {
   "cell_type": "code",
   "execution_count": 54,
   "metadata": {},
   "outputs": [],
   "source": [
    "# I think the action here is to use a loop to fill in an array\n",
    "# could try this out by making a loop to fill another array\n",
    "a = np.zeros((4,20))\n",
    "for i in range(1,20):\n",
    "    a[0,i] == 5"
   ]
  },
  {
   "cell_type": "markdown",
   "metadata": {},
   "source": [
    "**3. Within the for loop calculate the baseline, current climates and anomalies for each of the files**"
   ]
  },
  {
   "cell_type": "code",
   "execution_count": 4,
   "metadata": {},
   "outputs": [],
   "source": [
    "# Importing the sst file\n",
    "fn = '/Users/bendixon/Documents/HadSST/HadSST.4.0.0.0_ensemble_member_1.nc'\n",
    "swta_file = Dataset(fn)\n",
    "variables = swta_file.variables\n",
    "swta = swta_file.variables['tos'][:]\n",
    "time = swta_file.variables['time'][:]\n",
    "latitude = swta_file.variables['latitude'][:]\n",
    "longitude = swta_file.variables['longitude'][:]\n",
    "swta = np.ma.masked_values(swta, 9.969209968386869e+36)"
   ]
  },
  {
   "cell_type": "code",
   "execution_count": 31,
   "metadata": {},
   "outputs": [],
   "source": [
    "time_units = swta_file.variables['time'].units\n",
    "calendar = swta_file.variables['time'].calendar\n",
    "time_convert = num2date(time, time_units, calendar)"
   ]
  },
  {
   "cell_type": "code",
   "execution_count": 6,
   "metadata": {},
   "outputs": [],
   "source": [
    "# Find the position in the time array corresponding to 1950, 1, 1 \n",
    "# Looking for a more automated way, e.g. \n",
    "# DatetimeGregorian(1850, 2, 15, 0, 0, 0, 0)\n",
    "# np.where(time_convert == DateTime?)\n",
    "# date(1850,1,16).toordinal() - this gives the day number, but we want the number of the row in the array"
   ]
  },
  {
   "cell_type": "code",
   "execution_count": 7,
   "metadata": {},
   "outputs": [
    {
     "name": "stdout",
     "output_type": "stream",
     "text": [
      "1980-01-16 12:00:00\n",
      "1950-01-16 12:00:00\n",
      "2000-01-16 12:00:00\n",
      "2018-12-16 12:00:00\n"
     ]
    }
   ],
   "source": [
    "print(time_convert[1200])\n",
    "print(time_convert[1560]) # not sure why some months there are measurements at 00:00 or 12:00\n",
    "print(time_convert[1800])\n",
    "print(time_convert[2027]) # this is only up to 2018, but that's the size of the array"
   ]
  },
  {
   "cell_type": "code",
   "execution_count": 29,
   "metadata": {},
   "outputs": [],
   "source": [
    "i_1950 = 1200; i_1980 = 1569; i_2000 = 1800; i_2018 = 2027\n",
    "\n",
    "baseline = swta[i_1950:i_1980,:,:]\n",
    "baseline = np.mean(baseline,axis=0) \n",
    "\n",
    "current = swta[i_2000:i_2018,:,:]\n",
    "current = np.mean(current,axis=0)\n",
    "\n",
    "# current - baseline\n",
    "anomaly = current - baseline"
   ]
  },
  {
   "cell_type": "markdown",
   "metadata": {},
   "source": [
    "**Workings/ideas**"
   ]
  },
  {
   "cell_type": "markdown",
   "metadata": {},
   "source": [
    "Overall process:\n",
    "1. Create an array\n",
    "2. Loop through each file and find the "
   ]
  },
  {
   "cell_type": "code",
   "execution_count": null,
   "metadata": {},
   "outputs": [],
   "source": [
    "\n",
    "\n",
    "# initialise empty arrays\n",
    "\n",
    "# open data in for loop\n",
    "for i in range(1,200):\n",
    "\n",
    "    # calculate baseline and current global mean sst\n",
    "    \n",
    "    # you can't np.concatenate to an empty array so create an if statement to deal with the first instance    \n",
    "\n",
    "\n",
    "# calculate ensemble mean sst anomaly for each grid point\n",
    "\n",
    "# loop through each grid point and assess whether the current values are significantly different from the baseline\n",
    "for i in range(36):\n",
    "    for j in range(72):\n",
    "        # ...     \n",
    "\n",
    "anomaly = \n",
    "significance ="
   ]
  },
  {
   "cell_type": "code",
   "execution_count": null,
   "metadata": {},
   "outputs": [],
   "source": []
  }
 ],
 "metadata": {
  "kernelspec": {
   "display_name": "Python 3",
   "language": "python",
   "name": "python3"
  },
  "language_info": {
   "codemirror_mode": {
    "name": "ipython",
    "version": 3
   },
   "file_extension": ".py",
   "mimetype": "text/x-python",
   "name": "python",
   "nbconvert_exporter": "python",
   "pygments_lexer": "ipython3",
   "version": "3.8.3"
  }
 },
 "nbformat": 4,
 "nbformat_minor": 4
}
