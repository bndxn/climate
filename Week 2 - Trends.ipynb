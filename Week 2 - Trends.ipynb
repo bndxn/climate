{
 "cells": [
  {
   "cell_type": "code",
   "execution_count": null,
   "metadata": {},
   "outputs": [],
   "source": [
    "# Part 1 - SST timeline - is there a trend?\n",
    "# this is about doing a linear regression\n",
    "# Part 2 - this is about taking lots of files, and looping through them to determine significance\n",
    "# tip - you could try doing this for one file first\n",
    "# look up - what is ensemble data? \n",
    "# look up - examples of similar loops, and similar tests of statistical significance"
   ]
  },
  {
   "cell_type": "markdown",
   "metadata": {},
   "source": [
    "**Queries**\n",
    "1. Does pandas slice differently to numpy?\n",
    "2. What do all the modules below do? \n",
    "3. How do we do linregress? "
   ]
  },
  {
   "cell_type": "code",
   "execution_count": 2,
   "metadata": {},
   "outputs": [
    {
     "ename": "ModuleNotFoundError",
     "evalue": "No module named 'cartopy'",
     "output_type": "error",
     "traceback": [
      "\u001b[0;31m---------------------------------------------------------------------------\u001b[0m",
      "\u001b[0;31mModuleNotFoundError\u001b[0m                       Traceback (most recent call last)",
      "\u001b[0;32m<ipython-input-2-0ae135f2c762>\u001b[0m in \u001b[0;36m<module>\u001b[0;34m\u001b[0m\n\u001b[1;32m      3\u001b[0m \u001b[0;32mimport\u001b[0m \u001b[0mpandas\u001b[0m \u001b[0;32mas\u001b[0m \u001b[0mpd\u001b[0m\u001b[0;34m\u001b[0m\u001b[0;34m\u001b[0m\u001b[0m\n\u001b[1;32m      4\u001b[0m \u001b[0;32mimport\u001b[0m \u001b[0mmatplotlib\u001b[0m\u001b[0;34m.\u001b[0m\u001b[0mpyplot\u001b[0m \u001b[0;32mas\u001b[0m \u001b[0mplt\u001b[0m \u001b[0;31m# importing matplotlib as pyplot\u001b[0m\u001b[0;34m\u001b[0m\u001b[0;34m\u001b[0m\u001b[0m\n\u001b[0;32m----> 5\u001b[0;31m \u001b[0;32mimport\u001b[0m \u001b[0mcartopy\u001b[0m\u001b[0;34m.\u001b[0m\u001b[0mcrs\u001b[0m \u001b[0;32mas\u001b[0m \u001b[0mccrs\u001b[0m \u001b[0;31m# cartopy defines the map projection\u001b[0m\u001b[0;34m\u001b[0m\u001b[0;34m\u001b[0m\u001b[0m\n\u001b[0m\u001b[1;32m      6\u001b[0m \u001b[0;32mfrom\u001b[0m \u001b[0mnetCDF4\u001b[0m \u001b[0;32mimport\u001b[0m \u001b[0mDataset\u001b[0m\u001b[0;34m,\u001b[0m\u001b[0mnum2date\u001b[0m \u001b[0;31m# netCDF is a storage format, Network Common Data Form\u001b[0m\u001b[0;34m\u001b[0m\u001b[0;34m\u001b[0m\u001b[0m\n\u001b[1;32m      7\u001b[0m \u001b[0;32mfrom\u001b[0m \u001b[0mdatetime\u001b[0m \u001b[0;32mimport\u001b[0m \u001b[0mdate\u001b[0m\u001b[0;34m,\u001b[0m \u001b[0mtimedelta\u001b[0m \u001b[0;31m# supplies classes for manipulating dates and times\u001b[0m\u001b[0;34m\u001b[0m\u001b[0;34m\u001b[0m\u001b[0m\n",
      "\u001b[0;31mModuleNotFoundError\u001b[0m: No module named 'cartopy'"
     ]
    }
   ],
   "source": [
    "# import modules\n",
    "import numpy as np\n",
    "import pandas as pd\n",
    "import matplotlib.pyplot as plt # importing matplotlib as pyplot\n",
    "import cartopy.crs as ccrs # cartopy defines the map projection\n",
    "from netCDF4 import Dataset,num2date # netCDF is a storage format, Network Common Data Form\n",
    "from datetime import date, timedelta # supplies classes for manipulating dates and times\n",
    "from scipy.stats import linregress # a linear least-squares regression\n",
    "from scipy.stats import ks_2samp # Kolmogorov-Smirnov statistic on two samples\n",
    "from scipy.io import loadmat # scipy.io is for importing and writing in diff formats, loadmat is for MATLAB\n",
    "import matplotlib as mpl\n",
    "mpl.rcParams['figure.dpi'] = 300 # .rcParams modifies run config parameters, for mpl here\n",
    "# cartopy docs https://scitools.org.uk/cartopy/docs/v0.13/matplotlib/advanced_plotting.html\n",
    "# scikit-learn (sklearn) is a machine learning library "
   ]
  },
  {
   "cell_type": "markdown",
   "metadata": {},
   "source": [
    "**The Kolmogorov-Smirnov test** \n",
    "- The K-S stat is about seeing whether the empirical samples are drawn from an underlying probability distribution. \n",
    "- The **null** hypothesis is that the samples **do** come from the distribution\n",
    "- The **alternative** hypothesis is that the samples **do not** come from the distribution\n",
    "\n",
    "http://www.stats.ox.ac.uk/~massa/Lecture%2013.pdf \n",
    "\n",
    "- The test creates functions of where observations fall within the sets and the frequency\n",
    "- It calculates the maximum absolute distance between the expected and observed distribution functions\n",
    "-  Kolmogorov-Smirnov statistic is again the maximum absolute difference of the two observed distribution functions\n",
    "\n",
    "Query: is the K-S just the maximum for a single value? If so it seems it could be skewed. \n",
    "\n",
    "Query: Also what direction does the strength go if the empirical data is a smaller sample? Maybe easier to reject"
   ]
  },
  {
   "cell_type": "code",
   "execution_count": null,
   "metadata": {},
   "outputs": [],
   "source": []
  }
 ],
 "metadata": {
  "kernelspec": {
   "display_name": "Python 3",
   "language": "python",
   "name": "python3"
  },
  "language_info": {
   "codemirror_mode": {
    "name": "ipython",
    "version": 3
   },
   "file_extension": ".py",
   "mimetype": "text/x-python",
   "name": "python",
   "nbconvert_exporter": "python",
   "pygments_lexer": "ipython3",
   "version": "3.8.3"
  }
 },
 "nbformat": 4,
 "nbformat_minor": 4
}
