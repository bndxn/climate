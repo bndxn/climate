{
 "cells": [
  {
   "cell_type": "markdown",
   "metadata": {},
   "source": [
    "**Statistical significance**"
   ]
  },
  {
   "cell_type": "code",
   "execution_count": 1,
   "metadata": {},
   "outputs": [],
   "source": [
    "# import modules\n",
    "import numpy as np\n",
    "import pandas as pd\n",
    "import matplotlib.pyplot as plt # importing matplotlib as pyplot\n",
    "import cartopy.crs as ccrs # cartopy defines the map projection\n",
    "from netCDF4 import Dataset,num2date # netCDF is a storage format, Network Common Data Form\n",
    "from datetime import date, timedelta # supplies classes for manipulating dates and times\n",
    "from scipy.stats import linregress # a linear least-squares regression\n",
    "from scipy.stats import ks_2samp # Kolmogorov-Smirnov statistic on two samples\n",
    "from scipy.io import loadmat # scipy.io is for importing and writing in diff formats, loadmat is for MATLAB\n",
    "import matplotlib as mpl\n",
    "mpl.rcParams['figure.dpi'] = 300 # .rcParams modifies run config parameters, for mpl here\n",
    "# cartopy docs https://scitools.org.uk/cartopy/docs/v0.13/matplotlib/advanced_plotting.html\n",
    "# scikit-learn (sklearn) is a machine learning library "
   ]
  },
  {
   "cell_type": "markdown",
   "metadata": {},
   "source": [
    "**The Kolmogorov-Smirnov test** \n",
    "- The K-S stat is about seeing whether the empirical samples are drawn from an underlying probability distribution. \n",
    "- The **null** hypothesis is that the samples **do** come from the distribution\n",
    "- The **alternative** hypothesis is that the samples **do not** come from the distribution\n",
    "\n",
    "http://www.stats.ox.ac.uk/~massa/Lecture%2013.pdf \n",
    "\n",
    "- The test creates functions of where observations fall within the sets and the frequency\n",
    "- It calculates the maximum absolute distance between the expected and observed distribution functions\n",
    "-  Kolmogorov-Smirnov statistic is again the maximum absolute difference of the two observed distribution functions\n",
    "\n",
    "Query: is the K-S just the maximum for a single value? If so it seems it could be skewed. \n",
    "\n",
    "Query: Also what direction does the strength go if the empirical data is a smaller sample? Maybe easier to reject"
   ]
  },
  {
   "cell_type": "code",
   "execution_count": null,
   "metadata": {},
   "outputs": [],
   "source": []
  }
 ],
 "metadata": {
  "kernelspec": {
   "display_name": "Python 3",
   "language": "python",
   "name": "python3"
  },
  "language_info": {
   "codemirror_mode": {
    "name": "ipython",
    "version": 3
   },
   "file_extension": ".py",
   "mimetype": "text/x-python",
   "name": "python",
   "nbconvert_exporter": "python",
   "pygments_lexer": "ipython3",
   "version": "3.8.3"
  }
 },
 "nbformat": 4,
 "nbformat_minor": 4
}
